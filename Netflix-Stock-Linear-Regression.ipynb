{
 "cells": [
  {
   "cell_type": "code",
   "execution_count": 1,
   "id": "6dacade3",
   "metadata": {},
   "outputs": [
    {
     "name": "stdout",
     "output_type": "stream",
     "text": [
      "Tên các cột trong dữ liệu:\n",
      "Index(['X1= Open(Giá mở cửa)', 'X2= High(Giá cao nhất)',\n",
      "       'X3= Low(Giá thấp nhất)', 'X4= Volume(Khối lượng giao dịch)',\n",
      "       'Y= Adj Close( Giá đóng phiên điều chỉnh)'],\n",
      "      dtype='object')\n",
      "Beta mũ (ước lượng):\n",
      "[-4.55323324e-01 -5.97693885e-01  7.72316330e-01  8.26377970e-01\n",
      "  8.80383531e-08]\n",
      "Mô hình hồi quy (y_hat):\n",
      "y = -0.45532332372 * 1 + -0.59769388502 * X1 + 0.77231632991 * X2 + 0.82637796974 * X3 + 0.00000008804 * X4\n"
     ]
    }
   ],
   "source": [
    "import pandas as pd\n",
    "import numpy as np\n",
    "\n",
    "# Đọc dữ liệu từ file Excel, với tên cột ở hàng đầu tiên\n",
    "df = pd.read_excel(\"NFLX.xlsx\", sheet_name=\"NFLX\")\n",
    "\n",
    "# In ra các tên cột để kiểm tra\n",
    "print(\"Tên các cột trong dữ liệu:\")\n",
    "print(df.columns)\n",
    "\n",
    "# X là ma trận dữ liệu, Y là vector kết quả\n",
    "# X1 = Open, X2 = High, X3 = Low, X4 = Volume\n",
    "# Y = Adj Close\n",
    "X = df[[\"X1= Open(Giá mở cửa)\", \"X2= High(Giá cao nhất)\", \"X3= Low(Giá thấp nhất)\", \"X4= Volume(Khối lượng giao dịch)\"]].values  # Chọn các cột Open, High, Low, Volume\n",
    "X = np.hstack((np.ones((X.shape[0], 1)), X))  # Thêm cột 1 vào X để tính hệ số chệch\n",
    "\n",
    "Y = df[\"Y= Adj Close( Giá đóng phiên điều chỉnh)\"].values  # Cột Adj Close là Y\n",
    "\n",
    "# Tính Beta mũ theo công thức: Beta_hat = (X^T X)^-1 X^T Y\n",
    "XT = X.T\n",
    "Beta_hat = np.linalg.inv(XT @ X) @ XT @ Y\n",
    "\n",
    "# In ra kết quả\n",
    "print(\"Beta mũ (ước lượng):\")\n",
    "print(Beta_hat)\n",
    "\n",
    "# Hiển thị mô hình hồi quy dưới dạng công thức\n",
    "feature_names = [\"1\"] + [\"X1\", \"X2\", \"X3\", \"X4\"]  # Tên các biến trong X (thêm hệ số chặn)\n",
    "equation_terms = [f\"{Beta_hat[i]:.11f} * {feature_names[i]}\" for i in range(len(Beta_hat))]\n",
    "model_equation = \"y = \" + \" + \".join(equation_terms)\n",
    "\n",
    "# In công thức hồi quy\n",
    "print(\"Mô hình hồi quy (y_hat):\")\n",
    "print(model_equation)\n",
    "\n"
   ]
  },
  {
   "cell_type": "code",
   "execution_count": 2,
   "id": "afc6ae77",
   "metadata": {},
   "outputs": [
    {
     "name": "stdout",
     "output_type": "stream",
     "text": [
      "\n",
      "Kết quả tính toán:\n",
      "Tổng bình phương sai số hồi quy (SS_R): 11805402.195792347\n",
      "Tổng bình phương sai số đo lường sự thay đổi ngoài mô hình (SS_E): 15135.428559541702\n",
      "Tổng bình phương sai số tổng thể mô hình(SS_T): 11820537.624351889\n",
      "MS_R (trung bình bình phương hồi quy): 2951350.548948087\n",
      "MS_E (trung bình bình phương sai số): 15.075128047352294\n",
      "Giá trị quan sát f_0: 195776.15126568987\n",
      "R^2 (hệ số xác định): 0.9987195651297315\n",
      "\n",
      "Kết quả kiểm tra Fisher:\n",
      "f_0: 195776.15126568987\n",
      "Giá trị tới hạn f_0.05(4, 1004): 2.380795469026456\n",
      "Kết luận: f_0 thuộc W_alpha\n",
      "\n",
      "Bảng ANOVA:\n",
      "  Nguồn  Tổng bình phương  Bậc tự do  Binh phương TB            f_0\n",
      "Hồi quy      1.180540e+07          4  2951350.548948  195776.151266\n",
      " Sai số      1.513543e+04       1004       15.075128               \n",
      "   Tổng      1.182054e+07       1008                               \n",
      "R^2 (hệ số xác định): 0.9987195651297315\n"
     ]
    }
   ],
   "source": [
    "from scipy.stats import f\n",
    "# Số lượng mẫu (n) và số biến độc lập (k)\n",
    "n = X.shape[0]\n",
    "k = X.shape[1] - 1  # Trừ đi cột hệ số chặn\n",
    "\n",
    "# Tính tổng bình phương sai số hồi quy (SS_R)\n",
    "SS_R = Beta_hat.T @ XT @ Y - (np.sum(Y) ** 2) / n\n",
    "\n",
    "# Tính tổng bình phương sai số đo lường sự thay đổi ngoài mô hình (SS_E)\n",
    "SS_E = Y.T @ Y - Beta_hat.T @ XT @ Y\n",
    "\n",
    "SS_T = SS_R + SS_E\n",
    "\n",
    "# Tính MS_R và MS_E\n",
    "MS_R = SS_R / k\n",
    "MS_E = SS_E / (n - (k + 1))\n",
    "\n",
    "# Tính giá trị quan sát f_0\n",
    "f_0 = MS_R / MS_E\n",
    "\n",
    "# Tính R^2\n",
    "R_squared = SS_R / SS_T\n",
    "\n",
    "\n",
    "# Tìm giá trị tới hạn f_{alpha}(4, 1004)\n",
    "alpha = 0.05\n",
    "df1 = k  # Bậc tự do của MS_R\n",
    "df2 = n - (k + 1)  # Bậc tự do của MS_E\n",
    "f_critical = f.ppf(1 - alpha, df1, df2)\n",
    "\n",
    "# Kiểm tra f_0 có thuộc W_alpha hay không\n",
    "if f_0 > f_critical:\n",
    "    result = \"f_0 thuộc W_alpha\"\n",
    "else:\n",
    "    result = \"f_0 không thuộc W_alpha\"\n",
    "\n",
    "\n",
    "# In kết quả\n",
    "print(\"\\nKết quả tính toán:\")\n",
    "print(f\"Tổng bình phương sai số hồi quy (SS_R): {SS_R}\")\n",
    "print(f\"Tổng bình phương sai số đo lường sự thay đổi ngoài mô hình (SS_E): {SS_E}\")\n",
    "print(f\"Tổng bình phương sai số tổng thể mô hình(SS_T): {SS_T}\")\n",
    "print(f\"MS_R (trung bình bình phương hồi quy): {MS_R}\")\n",
    "print(f\"MS_E (trung bình bình phương sai số): {MS_E}\")\n",
    "print(f\"Giá trị quan sát f_0: {f_0}\")\n",
    "print(f\"R^2 (hệ số xác định): {R_squared}\")\n",
    "\n",
    "print(\"\\nKết quả kiểm tra Fisher:\")\n",
    "print(f\"f_0: {f_0}\")\n",
    "print(f\"Giá trị tới hạn f_{alpha}(4, 1004): {f_critical}\")\n",
    "print(f\"Kết luận: {result}\")\n",
    "\n",
    "# Tạo bảng ANOVA\n",
    "anova_table = pd.DataFrame({\n",
    "    \"Nguồn\": [\"Hồi quy\", \"Sai số\", \"Tổng\"],\n",
    "    \"Tổng bình phương\": [SS_R, SS_E, SS_T],\n",
    "    \"Bậc tự do\": [df1, df2, df1 + df2],\n",
    "    \"Binh phương TB\": [MS_R, MS_E, \"\"],\n",
    "    \"f_0\": [f_0, \"\", \"\"]\n",
    "})\n",
    "\n",
    "# In bảng ANOVA\n",
    "print(\"\\nBảng ANOVA:\")\n",
    "print(anova_table.to_string(index=False))\n",
    "\n",
    "print(f\"R^2 (hệ số xác định): {R_squared}\")"
   ]
  },
  {
   "cell_type": "code",
   "execution_count": 3,
   "id": "0ba6d7f2",
   "metadata": {},
   "outputs": [
    {
     "name": "stdout",
     "output_type": "stream",
     "text": [
      "\n",
      "Ma trận (X^T X)^-1:\n",
      "[[ 2.78442541e-02 -1.93873247e-06  1.84045528e-04 -2.37976652e-04\n",
      "  -8.16796393e-10]\n",
      " [-1.93873247e-06  4.24395586e-05 -2.25319342e-05 -1.98977083e-05\n",
      "   7.69778101e-13]\n",
      " [ 1.84045528e-04 -2.25319342e-05  4.60591821e-05 -2.45753319e-05\n",
      "  -2.60894836e-11]\n",
      " [-2.37976652e-04 -1.98977083e-05 -2.45753319e-05  4.56485512e-05\n",
      "   2.70019900e-11]\n",
      " [-8.16796393e-10  7.69778101e-13 -2.60894836e-11  2.70019900e-11\n",
      "   6.01915319e-17]]\n"
     ]
    }
   ],
   "source": [
    "XTX_inv = np.linalg.inv(XT @ X)\n",
    "\n",
    "# In ma trận (X^T X)^-1\n",
    "print(\"\\nMa trận (X^T X)^-1:\")\n",
    "print(XTX_inv)"
   ]
  },
  {
   "cell_type": "code",
   "execution_count": 4,
   "id": "7ec5d9bf",
   "metadata": {},
   "outputs": [
    {
     "name": "stdout",
     "output_type": "stream",
     "text": [
      "Giá trị T_j:\n",
      "T_0 = -0.7027835682503761\n",
      "T_1 = -23.629954138053307\n",
      "T_2 = 29.309378013030187\n",
      "T_3 = 31.50175334473496\n",
      "T_4 = 2.922629117635863\n"
     ]
    }
   ],
   "source": [
    "# Tính các giá trị T_j\n",
    "C_diag = np.diag(np.linalg.inv(XT @ X))  # Lấy đường chéo chính của ma trận (X^T X)^-1\n",
    "T_values = Beta_hat / np.sqrt(MS_E * C_diag)  # Tính T_j theo công thức\n",
    "\n",
    "# In kết quả\n",
    "print(\"Giá trị T_j:\")\n",
    "for j, T_j in enumerate(T_values):\n",
    "    print(f\"T_{j} = {T_j}\")\n"
   ]
  },
  {
   "cell_type": "code",
   "execution_count": 5,
   "id": "3bf4ee1c",
   "metadata": {},
   "outputs": [
    {
     "name": "stdout",
     "output_type": "stream",
     "text": [
      "\n",
      "Kiểm tra T_j thuộc miền bác bỏ W_alpha:\n",
      "T_0 không thuộc W_alpha (|T_0| ≤ 1.9623)\n",
      "T_1 thuộc W_alpha (|T_1| > 1.9623)\n",
      "T_2 thuộc W_alpha (|T_2| > 1.9623)\n",
      "T_3 thuộc W_alpha (|T_3| > 1.9623)\n",
      "T_4 thuộc W_alpha (|T_4| > 1.9623)\n"
     ]
    }
   ],
   "source": [
    "from scipy.stats import t\n",
    "\n",
    "# Định nghĩa mức ý nghĩa alpha và bậc tự do\n",
    "alpha = 0.05\n",
    "df = n - (k + 1)  # Bậc tự do\n",
    "\n",
    "# Tìm giá trị tới hạn t_{alpha/2; df} cho miền hai phía\n",
    "t_critical = t.ppf(1 - alpha / 2, df)  # Vì phân phối đối xứng, chỉ cần t_critical bên phải\n",
    "\n",
    "# Kiểm tra từng t_j có thuộc miền bác bỏ hay không\n",
    "W_alpha_results = []\n",
    "for j, T_j in enumerate(T_values):\n",
    "    if T_j > t_critical or T_j < -t_critical:\n",
    "        W_alpha_results.append(f\"T_{j} thuộc W_alpha (|T_{j}| > {t_critical:.4f})\")\n",
    "    else:\n",
    "        W_alpha_results.append(f\"T_{j} không thuộc W_alpha (|T_{j}| ≤ {t_critical:.4f})\")\n",
    "\n",
    "# In kết quả\n",
    "print(\"\\nKiểm tra T_j thuộc miền bác bỏ W_alpha:\")\n",
    "print(\"\\n\".join(W_alpha_results))\n"
   ]
  }
 ],
 "metadata": {
  "kernelspec": {
   "display_name": "Python 3 (ipykernel)",
   "language": "python",
   "name": "python3"
  },
  "language_info": {
   "codemirror_mode": {
    "name": "ipython",
    "version": 3
   },
   "file_extension": ".py",
   "mimetype": "text/x-python",
   "name": "python",
   "nbconvert_exporter": "python",
   "pygments_lexer": "ipython3",
   "version": "3.11.5"
  }
 },
 "nbformat": 4,
 "nbformat_minor": 5
}
